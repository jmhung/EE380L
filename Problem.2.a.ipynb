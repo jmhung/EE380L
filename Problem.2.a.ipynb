{
 "cells": [
  {
   "cell_type": "markdown",
   "metadata": {},
   "source": [
    "# Solution 1 a."
   ]
  },
  {
   "cell_type": "code",
   "execution_count": 23,
   "metadata": {
    "collapsed": false
   },
   "outputs": [],
   "source": [
    "import numpy as np\n",
    "import matplotlib.pyplot as plt\n",
    "%matplotlib inline"
   ]
  },
  {
   "cell_type": "code",
   "execution_count": 24,
   "metadata": {
    "collapsed": false
   },
   "outputs": [],
   "source": [
    "init=np.array([10,10]) \n",
    "mu=0\n",
    "sigma=1/100."
   ]
  },
  {
   "cell_type": "code",
   "execution_count": 25,
   "metadata": {
    "collapsed": false
   },
   "outputs": [],
   "source": [
    "def gd(init,rate):\n",
    "    new_init=np.array([0,0])\n",
    "    i=0\n",
    "    final=[]\n",
    "    diff=1\n",
    "    while diff>0.001:\n",
    "        new_init=init-rate*np.array([3*init[0]+init[1]+2,1/2*init[0]+(init[1]+2*init[1])+1])\n",
    "        diff = np.linalg.norm(init-new_init)\n",
    "        \n",
    "        final.append(new_init.tolist())\n",
    "        i=i+1\n",
    "        init=new_init\n",
    "            \n",
    "    print\"dradient descent converges to:\",init\n",
    "    print\"with iterations:\",i\n",
    "    print\"error:\", diff\n",
    "    global x1,y1\n",
    "    x1,y1 = zip(*final)\n",
    "    "
   ]
  },
  {
   "cell_type": "code",
   "execution_count": 26,
   "metadata": {
    "collapsed": false
   },
   "outputs": [
    {
     "name": "stdout",
     "output_type": "stream",
     "text": [
      "dradient descent converges to: [-0.58192585 -0.30693963]\n",
      "with iterations: 196\n",
      "error: 0.000976030691286\n"
     ]
    }
   ],
   "source": [
    "gd(init,0.01)"
   ]
  },
  {
   "cell_type": "code",
   "execution_count": 27,
   "metadata": {
    "collapsed": false
   },
   "outputs": [],
   "source": [
    "def sgd(init,rate):\n",
    "    new_init=np.array([0,0])\n",
    "    i=0\n",
    "    diff=1\n",
    "    mu=0\n",
    "    final2=[]\n",
    "    sigma=1/10.\n",
    "    while diff>0.001:\n",
    "        new_init=init-rate*np.array([3*init[0]+init[1]+2+np.random.normal(mu,sigma),1/2*init[0]+(init[1]+2*init[1])+1+np.random.normal(mu,sigma)])\n",
    "        diff = np.linalg.norm(init-new_init)\n",
    "        \n",
    "        final2.append(new_init.tolist())\n",
    "        i=i+1\n",
    "        init=new_init\n",
    "            \n",
    "    print\"dradient descent converges to:\",init\n",
    "    print\"with iterations:\",i\n",
    "    print\"error:\", diff\n",
    "    global x2,y2\n",
    "    x2,y2 = zip(*final2)\n",
    "    \n",
    "  \n"
   ]
  },
  {
   "cell_type": "code",
   "execution_count": 28,
   "metadata": {
    "collapsed": false
   },
   "outputs": [
    {
     "name": "stdout",
     "output_type": "stream",
     "text": [
      "dradient descent converges to: [-0.60353766 -0.25073131]\n",
      "with iterations: 161\n",
      "error: 0.000161222380537\n"
     ]
    }
   ],
   "source": [
    "sgd(init,0.01)"
   ]
  },
  {
   "cell_type": "code",
   "execution_count": 29,
   "metadata": {
    "collapsed": false
   },
   "outputs": [
    {
     "data": {
      "image/png": "[encoded data removed]",
      "text/plain": [
       "<matplotlib.figure.Figure at 0x1109f85d0>"
      ]
     },
     "metadata": {},
     "output_type": "display_data"
    }
   ],
   "source": [
    "plt.plot(x1)\n",
    "plt.plot(x2,color='r')\n",
    "plt.show()"
   ]
  },
  {
   "cell_type": "markdown",
   "metadata": {},
   "source": [
    "X axis in the graph above indicates the numbers of iteration, and y axis indicates the first value of vector x. As this shows that the red line (SGD) converges with less iterations than blue line (GD)"
   ]
  },
  {
   "cell_type": "code",
   "execution_count": 30,
   "metadata": {
    "collapsed": false
   },
   "outputs": [
    {
     "data": {
      "image/png": "[encoded data removed]",
      "text/plain": [
       "<matplotlib.figure.Figure at 0x11e2fe990>"
      ]
     },
     "metadata": {},
     "output_type": "display_data"
    }
   ],
   "source": [
    "plt.plot(y1)\n",
    "plt.plot(y2,color='r')\n",
    "plt.show()"
   ]
  },
  {
   "cell_type": "markdown",
   "metadata": {},
   "source": [
    "X axis in the graph above indicates the numbers of iteration, and y axis indicates the second value of vector x. As this shows that the red line (SGD) converges with less iterations than blue line (GD)"
   ]
  },
  {
   "cell_type": "markdown",
   "metadata": {},
   "source": [
    "AS it turns out SGD converges faster than GD in my case"
   ]
  },
  {
   "cell_type": "markdown",
   "metadata": {},
   "source": [
    "# Solution 1 b."
   ]
  },
  {
   "cell_type": "markdown",
   "metadata": {},
   "source": [
    " Since our $\\tilde{g}$ is a random varialble with probability $\\frac{1}{4}$ equal to $\\nabla (x_1\\dot\\beta-y_1)^2$, $\\frac{1}{4}$ equal to $\\nabla (x_2\\dot\\beta-y_2)^2$,$\\frac{1}{4}$ equal to $\\nabla (x_3\\dot\\beta-y_3)^2$,$\\frac{1}{4}$ equal to $\\nabla (x_4\\dot\\beta-y_4)^2$. The expected value of $\\tilde{g}$ is simply $$E(\\tilde{g})=\\frac{1}{4}\\nabla (x_1\\dot\\beta-y_1)^2+\\frac{1}{4}\\nabla (x_2\\dot\\beta-y_2)^2+\\frac{1}{4}\\nabla (x_3\\dot\\beta-y_3)^2+\\frac{1}{4}\\nabla (x_4\\dot\\beta-y_4)^2$$"
   ]
  },
  {
   "cell_type": "markdown",
   "metadata": {},
   "source": [
    "# Solution 1 c."
   ]
  },
  {
   "cell_type": "code",
   "execution_count": 31,
   "metadata": {
    "collapsed": false
   },
   "outputs": [
    {
     "name": "stdout",
     "output_type": "stream",
     "text": [
      "[  8.96880097  21.34821651 -17.51687903 ...,   7.01255413   9.59566427\n",
      "  -4.05929835]\n"
     ]
    }
   ],
   "source": [
    "X= np.random.randn(10000,100)\n",
    "mu, sigma = 0, 0.01\n",
    "w = np.random.normal(mu, sigma,10000)\n",
    "xbetastar= X.sum(axis=1)\n",
    "y =xbetastar+w\n",
    "print y\n"
   ]
  },
  {
   "cell_type": "code",
   "execution_count": 32,
   "metadata": {
    "collapsed": false
   },
   "outputs": [],
   "source": [
    "betazero=np.ones(100)*10\n",
    "list=[]\n",
    "new_beta=[]\n",
    "\n",
    "def sd2(betazero,rate):\n",
    "    r=0\n",
    "    diff=1. \n",
    "    while diff >0.01:\n",
    "        for i in range(0,10000):\n",
    "            \n",
    "            list.append(2*(np.dot(X[i,:],betazero)-y[i])*X[i,:])\n",
    "                 \n",
    "        gradient=sum(list)/10000\n",
    "        new_beta = betazero - rate*gradient\n",
    "        diff = np.linalg.norm(new_beta-betazero)\n",
    "        print diff \n",
    "        r=r+1\n",
    "        betazero=new_beta\n",
    "            \n",
    "    print\"Gradient descent converges to:\"\n",
    "    print betazero\n",
    "    print\"with iterations:\",r\n",
    "    print\"error:\", diff\n",
    "   \n"
   ]
  },
  {
   "cell_type": "code",
   "execution_count": 37,
   "metadata": {
    "collapsed": false
   },
   "outputs": [
    {
     "name": "stdout",
     "output_type": "stream",
     "text": [
      "Gradient descent converges to:\n",
      "[ 0.27859738  0.19838693  0.28219479 -0.20927307  0.31709588  0.20347399\n",
      " -0.28856559 -0.095358   -0.23556997  0.15128392  0.27549953  0.0477942\n",
      "  0.06215533 -0.30185809  0.15441497  0.31882459  0.1867418  -0.09258346\n",
      "  0.27551224  0.15831848  0.26220502  0.49445459  0.40695671  0.26294808\n",
      " -0.21327345  0.31825092  0.18486082  0.02748404  0.00238851  0.26031228\n",
      "  0.07741087 -0.35815593 -0.13055843  0.78017524 -0.13901866  0.06003523\n",
      "  0.13668199  0.28149657 -0.33270236  0.24033161  0.04426071  0.16370873\n",
      "  0.11408259  0.48338113  0.15933459 -0.04891995  0.40219342  0.22132114\n",
      "  0.13237908 -0.14076927  0.01404412  0.0656597   0.07044117  0.38546262\n",
      " -0.5190497   0.08667537  0.29549721  0.41348427 -0.46509101 -0.14019395\n",
      "  0.35105913  0.20098979  0.00203172 -0.63108085  0.34995168  0.44573458\n",
      " -0.07556117 -0.23265045 -0.06611787  0.23014064 -0.04694816 -0.12009909\n",
      " -0.0263082  -0.03146675  0.08552647  0.34291768  0.06151138 -0.09056035\n",
      "  0.07842852 -0.2880817  -0.12675744  0.17455484 -0.32827649  0.02974584\n",
      " -0.31945799  0.05013566 -0.26900801 -0.04875784 -0.23636862  0.11686904\n",
      " -0.18864994 -0.11822218  0.1464094   0.55352064 -0.00112253  0.12928624\n",
      " -0.00552318  0.45115771 -0.17984328  0.25919142]\n",
      "with iterations: 16\n",
      "error: 0.00662175513526\n"
     ]
    }
   ],
   "source": [
    "sd2(betazero, 0.01)"
   ]
  },
  {
   "cell_type": "markdown",
   "metadata": {},
   "source": [
    "# Solution 1 d."
   ]
  },
  {
   "cell_type": "code",
   "execution_count": 33,
   "metadata": {
    "collapsed": false
   },
   "outputs": [
    {
     "name": "stdout",
     "output_type": "stream",
     "text": [
      "Index of the random chosen value from Y: [8050]\n",
      "The value vector y at index p: -23.4784311291\n",
      "The vector corresponding to the same index from matrix X:\n",
      "[-0.97978658 -0.69769804 -0.99243813  0.73598302 -1.1151802  -0.7155885\n",
      "  1.01484332  0.33536027  0.82846541 -0.53204359 -0.96889187 -0.16808527\n",
      " -0.21859127  1.06159111 -0.54305504 -1.12125985 -0.65674381  0.32560259\n",
      " -0.96893658 -0.55678314 -0.92213701 -1.73892509 -1.43120771 -0.92475025\n",
      "  0.75005177 -1.11924233 -0.65012868 -0.09665738 -0.00840005 -0.91548055\n",
      " -0.27224282  1.25958245  0.45915507 -2.74376317  0.48890845 -0.21113519\n",
      " -0.48069072 -0.98998261  1.17006594 -0.84521141 -0.15565851 -0.57573987\n",
      " -0.40121194 -1.69998132 -0.56035665  0.17204438 -1.41445594 -0.77835436\n",
      " -0.46555803  0.4950651  -0.04939112 -0.23091565 -0.24773139 -1.35561613\n",
      "  1.8254225  -0.30482469 -1.03922082 -1.45416419  1.63565763  0.4930418\n",
      " -1.23462404 -0.70685192 -0.00714526  2.2194198  -1.23072931 -1.56758387\n",
      "  0.26573766  0.81819788  0.23252695 -0.80937124  0.16510986  0.42237109\n",
      "  0.09252213  0.110664   -0.30078419 -1.20599173 -0.2163266   0.31848763\n",
      " -0.27582173  1.01314156  0.44578755 -0.61388404  1.1545008  -0.10461182\n",
      "  1.12348742 -0.17631983  0.94606215  0.17147426  0.83127414 -0.41101148\n",
      "  0.66345449  0.41577026 -0.51490062 -1.94665182  0.00394777 -0.45468096\n",
      "  0.01942424 -1.58665624  0.63248271 -0.91153863]\n"
     ]
    }
   ],
   "source": [
    "import random\n",
    "yi = random.choice(y)\n",
    "p =[i for i,r in enumerate(y) if r==yi]\n",
    "xp= X[p][0]\n",
    "print \"Index of the random chosen value from Y:\",p\n",
    "print \"The value vector y at index p:\", yi\n",
    "print \"The vector corresponding to the same index from matrix X:\" \n",
    "print xp\n"
   ]
  },
  {
   "cell_type": "markdown",
   "metadata": {},
   "source": [
    "Suppose that we initialize the $\\beta_0$ as a vector of 100, 10s"
   ]
  },
  {
   "cell_type": "code",
   "execution_count": 34,
   "metadata": {
    "collapsed": false
   },
   "outputs": [],
   "source": [
    "betazero=np.ones(100)*10\n",
    "init=np.zeros(100)"
   ]
  },
  {
   "cell_type": "code",
   "execution_count": 35,
   "metadata": {
    "collapsed": false
   },
   "outputs": [],
   "source": [
    "def sgd2(init,rate):\n",
    "    i=0\n",
    "    final=[]\n",
    "    diff=1\n",
    "    new_init=np.zeros(100)\n",
    "    \n",
    "    while diff>0.01:\n",
    "        new_init = init-rate*2*(np.dot(xp,init)-yi)*xp\n",
    "        diff = np.linalg.norm(init-new_init)\n",
    "        i=i+1\n",
    "        init=new_init\n",
    "            \n",
    "    print\"Gradient descent converges to:\"\n",
    "    print init\n",
    "    print\"with iterations:\",i\n",
    "    print\"error:\", diff\n",
    "   \n",
    "   \n",
    "   \n",
    "  "
   ]
  },
  {
   "cell_type": "code",
   "execution_count": 36,
   "metadata": {
    "collapsed": false
   },
   "outputs": [
    {
     "name": "stdout",
     "output_type": "stream",
     "text": [
      "Gradient descent converges to:\n",
      "[ 0.2735965   0.19482584  0.27712933 -0.20551657  0.31140394  0.19982159\n",
      " -0.28338578 -0.09364631 -0.23134144  0.14856834  0.27055425  0.04693629\n",
      "  0.06103963 -0.29643967  0.15164318  0.31310163  0.18338974 -0.09092156\n",
      "  0.27056674  0.15547663  0.25749838  0.48557903  0.39965175  0.2582281\n",
      " -0.20944514  0.31253825  0.18154253  0.0269907   0.00234564  0.25563962\n",
      "  0.07602133 -0.35172696 -0.12821488  0.76617093 -0.13652324  0.05895758\n",
      "  0.13422852  0.27644365 -0.32673028  0.23601761  0.04346622  0.16077013\n",
      "  0.11203479  0.47470434  0.1564745  -0.04804183  0.39497397  0.21734838\n",
      "  0.13000285 -0.13824243  0.01379202  0.0644811   0.06917674  0.37854349\n",
      " -0.50973265  0.08511953  0.29019297  0.40606214 -0.45674253 -0.13767744\n",
      "  0.34475755  0.19738198  0.00199525 -0.61975281  0.34366998  0.43773355\n",
      " -0.07420483 -0.22847432 -0.06493104  0.22600956 -0.04610543 -0.11794329\n",
      " -0.02583596 -0.03090192  0.08399125  0.33676223  0.06040724 -0.08893478\n",
      "  0.07702071 -0.28291057 -0.12448212  0.17142154 -0.32238386  0.0292119\n",
      " -0.31372365  0.04923571 -0.26417926 -0.04788263 -0.23212575  0.11477122\n",
      " -0.18526364 -0.11610007  0.14378132  0.54358483 -0.00110238  0.12696553\n",
      " -0.00542404  0.44305934 -0.17661505  0.25453888]\n",
      "with iterations: 22\n",
      "error: 0.00967370842549\n"
     ]
    }
   ],
   "source": [
    "sgd2(init,0.001)"
   ]
  }
 ],
 "metadata": {
  "kernelspec": {
   "display_name": "Python 2",
   "language": "python",
   "name": "python2"
  },
  "language_info": {
   "codemirror_mode": {
    "name": "ipython",
    "version": 2
   },
   "file_extension": ".py",
   "mimetype": "text/x-python",
   "name": "python",
   "nbconvert_exporter": "python",
   "pygments_lexer": "ipython2",
   "version": "2.7.11"
  }
 },
 "nbformat": 4,
 "nbformat_minor": 0
}
