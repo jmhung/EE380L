{
 "cells": [
  {
   "cell_type": "code",
   "execution_count": 152,
   "metadata": {
    "collapsed": true
   },
   "outputs": [],
   "source": [
    "# In this notebook we explore the idea of level sets of a function\n",
    "# Then we move to gradient descent for a quadratic function."
   ]
  },
  {
   "cell_type": "code",
   "execution_count": 153,
   "metadata": {
    "collapsed": true
   },
   "outputs": [],
   "source": [
    "import matplotlib.pyplot as plt\n",
    "import numpy as np"
   ]
  },
  {
   "cell_type": "code",
   "execution_count": 48,
   "metadata": {
    "collapsed": false
   },
   "outputs": [],
   "source": [
    "# we define some functions here in 2D whose level sets we can plot\n",
    "def f1(x,y):\n",
    "    return np.minimum(np.minimum(np.minimum(x,x-y),x**2),y+1)\n",
    "def linear_fn(x,y,coeff):\n",
    "    return (coeff[0]*x + coeff[1]*y)\n",
    "def quadratic_fn(x,y,Q,q,q0):\n",
    "    #z = np.array([x,y])\n",
    "    #return np.dot(np.dot(z,Q),z) + np.dot(q,z) + q0\n",
    "    return Q[0,0]*(x**2) + Q[1,1]*(y**2) + Q[0,1]*x*y + Q[1,0]*x*y + q[0]*x+q[1]*y + q0"
   ]
  },
  {
   "cell_type": "code",
   "execution_count": null,
   "metadata": {
    "collapsed": true
   },
   "outputs": [],
   "source": [
    "# We generate some coefficients for a linear function\n",
    "# and then also generate a random (convex) quadratic function\n",
    "coeff = np.array([1,2])\n",
    "Q = np.random.randn(2,2)\n",
    "Q = np.dot(Q.transpose(),Q)\n",
    "q = np.random.randn(2)\n",
    "q0=0"
   ]
  },
  {
   "cell_type": "code",
   "execution_count": 154,
   "metadata": {
    "collapsed": false
   },
   "outputs": [],
   "source": [
    "# Now we plot the level sets. The level sets are sets where\n",
    "# the values the function takes are the same. This is a way\n",
    "# for us to plot two dimensional functions in two dimensions\n",
    "# instead of three. It is just like a map with elevation lines\n",
    "\n",
    "plt.figure()\n",
    "\n",
    "x_ = np.linspace(-180, 180, num=200)\n",
    "y_ = np.linspace(-180, 180, num=200)\n",
    "x,y = np.meshgrid(x_, y_)\n",
    "X = np.meshgrid(x_,y_)\n",
    "\n",
    "#levels = linear_fn(x, y, coeff)\n",
    "levels = quadratic_fn(x,y,Q,q,q0)\n",
    "\n",
    "plt.contour(x, y, levels, 50)\n",
    "#plt.colorbar()\n",
    "plt.show()"
   ]
  },
  {
   "cell_type": "code",
   "execution_count": 150,
   "metadata": {
    "collapsed": false
   },
   "outputs": [],
   "source": [
    "# Based on the level sets, let's pick an initial point\n",
    "# and then compute gradient descent and plot the trajectory\n",
    "# of gradient descent.\n",
    "#\n",
    "# A critical parameter is the step size.\n",
    "#\n",
    "x_step = np.array([25])\n",
    "y_step = np.array([-125])\n",
    "\n",
    "# compute the gradient at the point (x,y)\n",
    "def gradient(x,y,Q,q):\n",
    "    z = np.array([x,y])\n",
    "    grad = 2*np.dot(Q,z) + q\n",
    "    return grad\n",
    "\n",
    "\n",
    "# now we can compute the sequence of updates\n",
    "for i in np.arange(100)+1:\n",
    "    # we have to choose a step size\n",
    "    eta = .25\n",
    "    x_new, y_new = np.array([x_step[i-1],y_step[i-1]]) - eta*gradient(x_step[-1],y_step[i-1],Q,q)\n",
    "    x_new = np.array([x_new])\n",
    "    y_new = np.array([y_new])\n",
    "    x_step = np.concatenate((x_step,x_new))\n",
    "    y_step = np.concatenate((y_step,y_new))\n",
    "    "
   ]
  },
  {
   "cell_type": "code",
   "execution_count": 151,
   "metadata": {
    "collapsed": false
   },
   "outputs": [],
   "source": [
    "plt.figure()\n",
    "#levels = linear_fn(x, y, coeff)\n",
    "levels = quadratic_fn(x,y,Q,q,q0)\n",
    "\n",
    "plt.plot(x_step,y_step,'o')\n",
    "plt.contour(x, y, levels, 50)\n",
    "#plt.colorbar()\n",
    "plt.show()"
   ]
  },
  {
   "cell_type": "code",
   "execution_count": 119,
   "metadata": {
    "collapsed": false
   },
   "outputs": [
    {
     "data": {
      "text/plain": [
       "array([ 2.13364939,  0.07469007])"
      ]
     },
     "execution_count": 119,
     "metadata": {},
     "output_type": "execute_result"
    }
   ],
   "source": [
    "np.linalg.eig(Q)[0]"
   ]
  },
  {
   "cell_type": "code",
   "execution_count": null,
   "metadata": {
    "collapsed": true
   },
   "outputs": [],
   "source": []
  }
 ],
 "metadata": {
  "kernelspec": {
   "display_name": "Python 2",
   "language": "python",
   "name": "python2"
  },
  "language_info": {
   "codemirror_mode": {
    "name": "ipython",
    "version": 2
   },
   "file_extension": ".py",
   "mimetype": "text/x-python",
   "name": "python",
   "nbconvert_exporter": "python",
   "pygments_lexer": "ipython2",
   "version": "2.7.11"
  }
 },
 "nbformat": 4,
 "nbformat_minor": 0
}
