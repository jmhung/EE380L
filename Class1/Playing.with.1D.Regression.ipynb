{
 "cells": [
  {
   "cell_type": "code",
   "execution_count": 2,
   "metadata": {
    "collapsed": true
   },
   "outputs": [],
   "source": [
    "# Playing with 1 dimensional regression\n",
    "# Understanding non-linear fitting\n",
    "# Concepts: least squares, noise and under- and over-fitting."
   ]
  },
  {
   "cell_type": "code",
   "execution_count": 19,
   "metadata": {
    "collapsed": true
   },
   "outputs": [],
   "source": [
    "import numpy as np\n",
    "from numpy import linalg as LA\n",
    "import matplotlib.pyplot as plt\n",
    "from sklearn import svm, datasets"
   ]
  },
  {
   "cell_type": "code",
   "execution_count": 20,
   "metadata": {
    "collapsed": true
   },
   "outputs": [],
   "source": [
    "def generate_points(X,f,sigma): # generate n noisy points from y = f(x)\n",
    "    n = X.shape[0]\n",
    "    y = f(X) + np.random.randn(n)*sigma\n",
    "    return y"
   ]
  },
  {
   "cell_type": "code",
   "execution_count": 21,
   "metadata": {
    "collapsed": true
   },
   "outputs": [],
   "source": [
    "# constructing different types of functions that are \"ground truth\"\n",
    "\n",
    "# f(x) = beta x -- a linear function with slope beta\n",
    "def linear_fn(x):\n",
    "    return np.dot(x,2)    \n",
    "\n",
    "# f(x) = x^2\n",
    "def square(x):\n",
    "    return x**2\n",
    "\n",
    "# f(x) = x^d + c_{d-1}x^{d-1} + ... + c_0 -- a degee d polynomial\n",
    "def deg_d_polynomial(x):\n",
    "    poly = np.poly1d(coeff)\n",
    "    return poly(x)"
   ]
  },
  {
   "cell_type": "code",
   "execution_count": 22,
   "metadata": {
    "collapsed": false
   },
   "outputs": [],
   "source": [
    "# Fitting a degree d polynomial to the data (X,y)\n",
    "def fit_degree_d_poly(X,y,d):\n",
    "    n = X.shape[0]\n",
    "    Z = np.meshgrid(X,np.arange(d+1))[0]\n",
    "    Z = Z.transpose()\n",
    "    P = np.meshgrid(np.arange(d+1),np.arange(n))[0]\n",
    "    W = Z**P\n",
    "    coeff = find_regressor(W,y)\n",
    "    return coeff\n",
    "def find_regressor(X,y):\n",
    "    beta = np.linalg.lstsq(X,y)[0]\n",
    "    return beta  "
   ]
  },
  {
   "cell_type": "code",
   "execution_count": 51,
   "metadata": {
    "collapsed": false
   },
   "outputs": [],
   "source": [
    "# generate n points\n",
    "# n, d\n",
    "n = 15\n",
    "d = 5\n",
    "\n",
    "# beta, d coeff\n",
    "beta = 2\n",
    "coeff = np.random.randn(d)\n",
    "coeff[0]=1\n",
    "\n",
    "# sigma -- the noise\n",
    "sigma = 0.2\n",
    "\n",
    "# generate 1-d covariates X, and noisy labels y\n",
    "X = np.random.randn(n)\n",
    "y = generate_points(X,linear_fn,sigma)\n",
    "#y = generate_points(X,square,sigma)\n",
    "#y = generate_points(X,deg_d_polynomial,sigma)"
   ]
  },
  {
   "cell_type": "code",
   "execution_count": 52,
   "metadata": {
    "collapsed": false
   },
   "outputs": [],
   "source": [
    "# Let's fit a degree d polynomial using the above function\n",
    "d = 5\n",
    "coeff = fit_degree_d_poly(X,y,d)\n",
    "poly = np.poly1d(coeff[::-1])"
   ]
  },
  {
   "cell_type": "code",
   "execution_count": 53,
   "metadata": {
    "collapsed": false
   },
   "outputs": [],
   "source": [
    "ys = poly(np.arange(X.min(),X.max(),0.01))\n",
    "plt.plot(np.arange(X.min(),X.max(),0.01),ys)\n",
    "plt.plot(X, y, 'o')\n",
    "#plot(x, ys)\n",
    "plt.ylabel('y')\n",
    "plt.xlabel('X')\n",
    "plt.show()"
   ]
  },
  {
   "cell_type": "code",
   "execution_count": 18,
   "metadata": {
    "collapsed": false
   },
   "outputs": [
    {
     "data": {
      "text/plain": [
       "0.78465532163823015"
      ]
     },
     "execution_count": 18,
     "metadata": {},
     "output_type": "execute_result"
    }
   ],
   "source": [
    "deg_d_polynomial(x,coeff)"
   ]
  },
  {
   "cell_type": "code",
   "execution_count": null,
   "metadata": {
    "collapsed": true
   },
   "outputs": [],
   "source": []
  }
 ],
 "metadata": {
  "kernelspec": {
   "display_name": "Python 2",
   "language": "python",
   "name": "python2"
  },
  "language_info": {
   "codemirror_mode": {
    "name": "ipython",
    "version": 2
   },
   "file_extension": ".py",
   "mimetype": "text/x-python",
   "name": "python",
   "nbconvert_exporter": "python",
   "pygments_lexer": "ipython2",
   "version": "2.7.11"
  }
 },
 "nbformat": 4,
 "nbformat_minor": 0
}
