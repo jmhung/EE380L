{
 "cells": [
  {
   "cell_type": "code",
   "execution_count": 36,
   "metadata": {
    "collapsed": true
   },
   "outputs": [],
   "source": [
    "import numpy as np\n",
    "import matplotlib.pyplot as plt\n",
    "from sklearn import linear_model"
   ]
  },
  {
   "cell_type": "code",
   "execution_count": 135,
   "metadata": {
    "collapsed": true
   },
   "outputs": [],
   "source": [
    "# We will solve a regression with p dimensions, n observations and k nonzeros\n",
    "p = 200\n",
    "k = 5\n",
    "n = 150"
   ]
  },
  {
   "cell_type": "code",
   "execution_count": 136,
   "metadata": {
    "collapsed": true
   },
   "outputs": [],
   "source": [
    "# generate the random sensing matrix X\n",
    "X = np.random.randn(n,p)"
   ]
  },
  {
   "cell_type": "code",
   "execution_count": 137,
   "metadata": {
    "collapsed": false
   },
   "outputs": [],
   "source": [
    "# generate the signal we will then try to recover\n",
    "beta = np.zeros(p)\n",
    "beta[np.random.choice(p, k, replace = False)] = np.ones(k)"
   ]
  },
  {
   "cell_type": "code",
   "execution_count": 70,
   "metadata": {
    "collapsed": true
   },
   "outputs": [],
   "source": [
    "# This is what beta looks like\n",
    "plt.plot(beta,'o')\n",
    "plt.show()"
   ]
  },
  {
   "cell_type": "code",
   "execution_count": 163,
   "metadata": {
    "collapsed": true
   },
   "outputs": [],
   "source": [
    "# Now let's generate the random signals we see\n",
    "# random noise\n",
    "noise = np.random.randn(n)*0.2\n",
    "y = np.dot(X,beta) + noise"
   ]
  },
  {
   "cell_type": "code",
   "execution_count": 164,
   "metadata": {
    "collapsed": false
   },
   "outputs": [],
   "source": [
    "# We fit the regression in two different ways: Lasso and Least Squares Regression\n",
    "lasso = linear_model.Lasso(alpha = 0.7)\n",
    "LS = linear_model.Ridge(alpha = 0.5)\n",
    "lasso.fit(X,y)\n",
    "LS.fit(X,y)\n",
    "beta_hat = lasso.coef_\n",
    "beta_LS = LS.coef_"
   ]
  },
  {
   "cell_type": "code",
   "execution_count": 167,
   "metadata": {
    "collapsed": false
   },
   "outputs": [
    {
     "data": {
      "text/plain": [
       "[<matplotlib.lines.Line2D at 0x10e23de10>]"
      ]
     },
     "execution_count": 167,
     "metadata": {},
     "output_type": "execute_result"
    }
   ],
   "source": [
    "# Let's plot the original beta and the two candidate solutions\n",
    "plt.plot(beta_hat,'x')\n",
    "plt.plot(beta_LS,'+')\n",
    "plt.plot(beta,'o')\n",
    "plt.show()"
   ]
  }
 ],
 "metadata": {
  "kernelspec": {
   "display_name": "Python 2",
   "language": "python",
   "name": "python2"
  },
  "language_info": {
   "codemirror_mode": {
    "name": "ipython",
    "version": 2
   },
   "file_extension": ".py",
   "mimetype": "text/x-python",
   "name": "python",
   "nbconvert_exporter": "python",
   "pygments_lexer": "ipython2",
   "version": "2.7.11"
  }
 },
 "nbformat": 4,
 "nbformat_minor": 0
}
