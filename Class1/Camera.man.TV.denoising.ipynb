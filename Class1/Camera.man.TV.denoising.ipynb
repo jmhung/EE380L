{
 "cells": [
  {
   "cell_type": "code",
   "execution_count": 13,
   "metadata": {
    "collapsed": false
   },
   "outputs": [],
   "source": [
    "# We saw regression and sparse regression in an abstract example.\n",
    "# Here we consider some specific (and much used) application of sparse regression.\n",
    "# The problem is Image de-noising"
   ]
  },
  {
   "cell_type": "code",
   "execution_count": null,
   "metadata": {
    "collapsed": true
   },
   "outputs": [],
   "source": [
    "import numpy as np\n",
    "import matplotlib.pyplot as plt\n",
    "from skimage import data, img_as_float\n",
    "from skimage.restoration import denoise_tv_chambolle, denoise_bilateral"
   ]
  },
  {
   "cell_type": "code",
   "execution_count": null,
   "metadata": {
    "collapsed": true
   },
   "outputs": [],
   "source": [
    "# Load the Cameraman image and make a noisy version of it\n",
    "astro = img_as_float(data.camera())\n",
    "noisy = astro + 1 * astro.std() * 1*np.random.random(astro.shape)\n",
    "noisy = np.clip(noisy, 0, 1)"
   ]
  },
  {
   "cell_type": "code",
   "execution_count": 10,
   "metadata": {
    "collapsed": true
   },
   "outputs": [],
   "source": [
    "# Let's look at the cameraman\n",
    "plt.imshow(astro)\n",
    "plt.show()"
   ]
  },
  {
   "cell_type": "code",
   "execution_count": 11,
   "metadata": {
    "collapsed": true
   },
   "outputs": [],
   "source": [
    "# Let's look at his noisy friend\n",
    "plt.imshow(noisy)\n",
    "plt.show()"
   ]
  },
  {
   "cell_type": "code",
   "execution_count": null,
   "metadata": {
    "collapsed": true
   },
   "outputs": [],
   "source": [
    "# Total Variation Denoising\n",
    "# We denoise using 1, 2, 3 and 100 steps of our algorithm and plot all the results."
   ]
  },
  {
   "cell_type": "code",
   "execution_count": 12,
   "metadata": {
    "collapsed": true
   },
   "outputs": [],
   "source": [
    "fig, ax = plt.subplots(nrows=3, ncols=2, figsize=(6, 9), sharex=True,\n",
    "                       sharey=True, subplot_kw={'adjustable': 'box-forced'})\n",
    "plt.gray()\n",
    "ax[0, 0].imshow(astro)\n",
    "ax[0, 0].axis('off')\n",
    "ax[0, 0].set_title('original')\n",
    "ax[0, 1].imshow(noisy)\n",
    "ax[0, 1].axis('off')\n",
    "ax[0, 1].set_title('noisy')\n",
    "\n",
    "# min_y: 0.5*||x-y||_2^2 + weight*||gradient(y)||_1\n",
    "# set eps very small to make sure that the update is terminated depnding only on the number of iterations\n",
    "\n",
    "ax[1, 0].imshow(denoise_tv_chambolle(noisy, weight=0.1, eps=0.000000000002, n_iter_max=1, multichannel=True))\n",
    "ax[1, 0].axis('off')\n",
    "ax[1, 0].set_title('TV (#iter = 1)')\n",
    "ax[1, 1].imshow(denoise_tv_chambolle(noisy, weight=0.1, eps=0.000000000002, n_iter_max=2, multichannel=True))\n",
    "ax[1, 1].axis('off')\n",
    "ax[1, 1].set_title('TV (#iter = 2)')\n",
    "ax[2, 0].imshow(denoise_tv_chambolle(noisy, weight=0.1, eps=0.000000000002, n_iter_max=3, multichannel=True))\n",
    "ax[2, 0].axis('off')\n",
    "ax[2, 0].set_title('TV (#iter = 3)')\n",
    "ax[2, 1].imshow(denoise_tv_chambolle(noisy, weight=0.1, eps=0.000000000002, n_iter_max=100, multichannel=True))\n",
    "ax[2, 1].axis('off')\n",
    "ax[2, 1].set_title('TV (#iter = 100)')\n",
    "\n",
    "fig.tight_layout()\n",
    "\n",
    "plt.show()"
   ]
  },
  {
   "cell_type": "code",
   "execution_count": null,
   "metadata": {
    "collapsed": true
   },
   "outputs": [],
   "source": []
  }
 ],
 "metadata": {
  "kernelspec": {
   "display_name": "Python 2",
   "language": "python",
   "name": "python2"
  },
  "language_info": {
   "codemirror_mode": {
    "name": "ipython",
    "version": 2
   },
   "file_extension": ".py",
   "mimetype": "text/x-python",
   "name": "python",
   "nbconvert_exporter": "python",
   "pygments_lexer": "ipython2",
   "version": "2.7.11"
  }
 },
 "nbformat": 4,
 "nbformat_minor": 0
}
